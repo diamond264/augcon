{
 "cells": [
  {
   "cell_type": "code",
   "execution_count": 9,
   "metadata": {},
   "outputs": [
    {
     "name": "stdout",
     "output_type": "stream",
     "text": [
      "0\n",
      "CUDA_VISIBLE_DEVICES=0 python experiment.py --config /mnt/sting/hjyoon/projects/aaa/configs/infocom/hps/metasimclr_w_neg_membank_lr_0.01/hhar/metasimclr/pretrain/gpu0_target_user_a_model_nexus4.yaml & CUDA_VISIBLE_DEVICES=1 python experiment.py --config /mnt/sting/hjyoon/projects/aaa/configs/infocom/hps/metasimclr_w_neg_membank_lr_0.01/hhar/metasimclr/pretrain/gpu1_target_user_a_model_s3.yaml & CUDA_VISIBLE_DEVICES=2 python experiment.py --config /mnt/sting/hjyoon/projects/aaa/configs/infocom/hps/metasimclr_w_neg_membank_lr_0.01/hhar/metasimclr/pretrain/gpu2_target_user_a_model_s3mini.yaml & CUDA_VISIBLE_DEVICES=3 python experiment.py --config /mnt/sting/hjyoon/projects/aaa/configs/infocom/hps/metasimclr_w_neg_membank_lr_0.01/hhar/metasimclr/pretrain/gpu3_target_user_a_model_lgwatch.yaml & CUDA_VISIBLE_DEVICES=4 python experiment.py --config /mnt/sting/hjyoon/projects/aaa/configs/infocom/hps/metasimclr_w_neg_membank_lr_0.01/hhar/metasimclr/pretrain/gpu4_target_user_b_model_nexus4.yaml & CUDA_VISIBLE_DEVICES=5 python experiment.py --config /mnt/sting/hjyoon/projects/aaa/configs/infocom/hps/metasimclr_w_neg_membank_lr_0.01/hhar/metasimclr/pretrain/gpu5_target_user_b_model_s3.yaml & CUDA_VISIBLE_DEVICES=6 python experiment.py --config /mnt/sting/hjyoon/projects/aaa/configs/infocom/hps/metasimclr_w_neg_membank_lr_0.01/hhar/metasimclr/pretrain/gpu6_target_user_b_model_s3mini.yaml & CUDA_VISIBLE_DEVICES=7 python experiment.py --config /mnt/sting/hjyoon/projects/aaa/configs/infocom/hps/metasimclr_w_neg_membank_lr_0.01/hhar/metasimclr/pretrain/gpu7_target_user_b_model_lgwatch.yaml\n",
      "\n",
      "1\n",
      "CUDA_VISIBLE_DEVICES=0 python experiment.py --config /mnt/sting/hjyoon/projects/aaa/configs/infocom/hps/metasimclr_w_neg_membank_lr_0.01/hhar/metasimclr/pretrain/gpu0_target_user_c_model_nexus4.yaml & CUDA_VISIBLE_DEVICES=1 python experiment.py --config /mnt/sting/hjyoon/projects/aaa/configs/infocom/hps/metasimclr_w_neg_membank_lr_0.01/hhar/metasimclr/pretrain/gpu1_target_user_c_model_s3.yaml & CUDA_VISIBLE_DEVICES=2 python experiment.py --config /mnt/sting/hjyoon/projects/aaa/configs/infocom/hps/metasimclr_w_neg_membank_lr_0.01/hhar/metasimclr/pretrain/gpu2_target_user_c_model_s3mini.yaml & CUDA_VISIBLE_DEVICES=3 python experiment.py --config /mnt/sting/hjyoon/projects/aaa/configs/infocom/hps/metasimclr_w_neg_membank_lr_0.01/hhar/metasimclr/pretrain/gpu3_target_user_c_model_lgwatch.yaml & CUDA_VISIBLE_DEVICES=4 python experiment.py --config /mnt/sting/hjyoon/projects/aaa/configs/infocom/hps/metasimclr_w_neg_membank_lr_0.01/hhar/metasimclr/pretrain/gpu4_target_user_d_model_nexus4.yaml & CUDA_VISIBLE_DEVICES=5 python experiment.py --config /mnt/sting/hjyoon/projects/aaa/configs/infocom/hps/metasimclr_w_neg_membank_lr_0.01/hhar/metasimclr/pretrain/gpu5_target_user_d_model_s3.yaml & CUDA_VISIBLE_DEVICES=6 python experiment.py --config /mnt/sting/hjyoon/projects/aaa/configs/infocom/hps/metasimclr_w_neg_membank_lr_0.01/hhar/metasimclr/pretrain/gpu6_target_user_d_model_s3mini.yaml & CUDA_VISIBLE_DEVICES=7 python experiment.py --config /mnt/sting/hjyoon/projects/aaa/configs/infocom/hps/metasimclr_w_neg_membank_lr_0.01/hhar/metasimclr/pretrain/gpu7_target_user_d_model_lgwatch.yaml\n",
      "\n",
      "2\n",
      "CUDA_VISIBLE_DEVICES=0 python experiment.py --config /mnt/sting/hjyoon/projects/aaa/configs/infocom/hps/metasimclr_w_neg_membank_lr_0.001/hhar/metasimclr/pretrain/gpu0_target_user_a_model_nexus4.yaml & CUDA_VISIBLE_DEVICES=1 python experiment.py --config /mnt/sting/hjyoon/projects/aaa/configs/infocom/hps/metasimclr_w_neg_membank_lr_0.001/hhar/metasimclr/pretrain/gpu1_target_user_a_model_s3.yaml & CUDA_VISIBLE_DEVICES=2 python experiment.py --config /mnt/sting/hjyoon/projects/aaa/configs/infocom/hps/metasimclr_w_neg_membank_lr_0.001/hhar/metasimclr/pretrain/gpu2_target_user_a_model_s3mini.yaml & CUDA_VISIBLE_DEVICES=3 python experiment.py --config /mnt/sting/hjyoon/projects/aaa/configs/infocom/hps/metasimclr_w_neg_membank_lr_0.001/hhar/metasimclr/pretrain/gpu3_target_user_a_model_lgwatch.yaml & CUDA_VISIBLE_DEVICES=4 python experiment.py --config /mnt/sting/hjyoon/projects/aaa/configs/infocom/hps/metasimclr_w_neg_membank_lr_0.001/hhar/metasimclr/pretrain/gpu4_target_user_b_model_nexus4.yaml & CUDA_VISIBLE_DEVICES=5 python experiment.py --config /mnt/sting/hjyoon/projects/aaa/configs/infocom/hps/metasimclr_w_neg_membank_lr_0.001/hhar/metasimclr/pretrain/gpu5_target_user_b_model_s3.yaml & CUDA_VISIBLE_DEVICES=6 python experiment.py --config /mnt/sting/hjyoon/projects/aaa/configs/infocom/hps/metasimclr_w_neg_membank_lr_0.001/hhar/metasimclr/pretrain/gpu6_target_user_b_model_s3mini.yaml & CUDA_VISIBLE_DEVICES=7 python experiment.py --config /mnt/sting/hjyoon/projects/aaa/configs/infocom/hps/metasimclr_w_neg_membank_lr_0.001/hhar/metasimclr/pretrain/gpu7_target_user_b_model_lgwatch.yaml\n",
      "\n",
      "3\n",
      "CUDA_VISIBLE_DEVICES=0 python experiment.py --config /mnt/sting/hjyoon/projects/aaa/configs/infocom/hps/metasimclr_w_neg_membank_lr_0.001/hhar/metasimclr/pretrain/gpu0_target_user_c_model_nexus4.yaml & CUDA_VISIBLE_DEVICES=1 python experiment.py --config /mnt/sting/hjyoon/projects/aaa/configs/infocom/hps/metasimclr_w_neg_membank_lr_0.001/hhar/metasimclr/pretrain/gpu1_target_user_c_model_s3.yaml & CUDA_VISIBLE_DEVICES=2 python experiment.py --config /mnt/sting/hjyoon/projects/aaa/configs/infocom/hps/metasimclr_w_neg_membank_lr_0.001/hhar/metasimclr/pretrain/gpu2_target_user_c_model_s3mini.yaml & CUDA_VISIBLE_DEVICES=3 python experiment.py --config /mnt/sting/hjyoon/projects/aaa/configs/infocom/hps/metasimclr_w_neg_membank_lr_0.001/hhar/metasimclr/pretrain/gpu3_target_user_c_model_lgwatch.yaml & CUDA_VISIBLE_DEVICES=4 python experiment.py --config /mnt/sting/hjyoon/projects/aaa/configs/infocom/hps/metasimclr_w_neg_membank_lr_0.001/hhar/metasimclr/pretrain/gpu4_target_user_d_model_nexus4.yaml & CUDA_VISIBLE_DEVICES=5 python experiment.py --config /mnt/sting/hjyoon/projects/aaa/configs/infocom/hps/metasimclr_w_neg_membank_lr_0.001/hhar/metasimclr/pretrain/gpu5_target_user_d_model_s3.yaml & CUDA_VISIBLE_DEVICES=6 python experiment.py --config /mnt/sting/hjyoon/projects/aaa/configs/infocom/hps/metasimclr_w_neg_membank_lr_0.001/hhar/metasimclr/pretrain/gpu6_target_user_d_model_s3mini.yaml & CUDA_VISIBLE_DEVICES=7 python experiment.py --config /mnt/sting/hjyoon/projects/aaa/configs/infocom/hps/metasimclr_w_neg_membank_lr_0.001/hhar/metasimclr/pretrain/gpu7_target_user_d_model_lgwatch.yaml\n",
      "\n",
      "4\n",
      "CUDA_VISIBLE_DEVICES=0 python experiment.py --config /mnt/sting/hjyoon/projects/aaa/configs/infocom/hps/metasimclr_w_neg_membank_lr_0.0001/hhar/metasimclr/pretrain/gpu0_target_user_a_model_nexus4.yaml & CUDA_VISIBLE_DEVICES=1 python experiment.py --config /mnt/sting/hjyoon/projects/aaa/configs/infocom/hps/metasimclr_w_neg_membank_lr_0.0001/hhar/metasimclr/pretrain/gpu1_target_user_a_model_s3.yaml & CUDA_VISIBLE_DEVICES=2 python experiment.py --config /mnt/sting/hjyoon/projects/aaa/configs/infocom/hps/metasimclr_w_neg_membank_lr_0.0001/hhar/metasimclr/pretrain/gpu2_target_user_a_model_s3mini.yaml & CUDA_VISIBLE_DEVICES=3 python experiment.py --config /mnt/sting/hjyoon/projects/aaa/configs/infocom/hps/metasimclr_w_neg_membank_lr_0.0001/hhar/metasimclr/pretrain/gpu3_target_user_a_model_lgwatch.yaml & CUDA_VISIBLE_DEVICES=4 python experiment.py --config /mnt/sting/hjyoon/projects/aaa/configs/infocom/hps/metasimclr_w_neg_membank_lr_0.0001/hhar/metasimclr/pretrain/gpu4_target_user_b_model_nexus4.yaml & CUDA_VISIBLE_DEVICES=5 python experiment.py --config /mnt/sting/hjyoon/projects/aaa/configs/infocom/hps/metasimclr_w_neg_membank_lr_0.0001/hhar/metasimclr/pretrain/gpu5_target_user_b_model_s3.yaml & CUDA_VISIBLE_DEVICES=6 python experiment.py --config /mnt/sting/hjyoon/projects/aaa/configs/infocom/hps/metasimclr_w_neg_membank_lr_0.0001/hhar/metasimclr/pretrain/gpu6_target_user_b_model_s3mini.yaml & CUDA_VISIBLE_DEVICES=7 python experiment.py --config /mnt/sting/hjyoon/projects/aaa/configs/infocom/hps/metasimclr_w_neg_membank_lr_0.0001/hhar/metasimclr/pretrain/gpu7_target_user_b_model_lgwatch.yaml\n",
      "\n",
      "5\n",
      "CUDA_VISIBLE_DEVICES=0 python experiment.py --config /mnt/sting/hjyoon/projects/aaa/configs/infocom/hps/metasimclr_w_neg_membank_lr_0.0001/hhar/metasimclr/pretrain/gpu0_target_user_c_model_nexus4.yaml & CUDA_VISIBLE_DEVICES=1 python experiment.py --config /mnt/sting/hjyoon/projects/aaa/configs/infocom/hps/metasimclr_w_neg_membank_lr_0.0001/hhar/metasimclr/pretrain/gpu1_target_user_c_model_s3.yaml & CUDA_VISIBLE_DEVICES=2 python experiment.py --config /mnt/sting/hjyoon/projects/aaa/configs/infocom/hps/metasimclr_w_neg_membank_lr_0.0001/hhar/metasimclr/pretrain/gpu2_target_user_c_model_s3mini.yaml & CUDA_VISIBLE_DEVICES=3 python experiment.py --config /mnt/sting/hjyoon/projects/aaa/configs/infocom/hps/metasimclr_w_neg_membank_lr_0.0001/hhar/metasimclr/pretrain/gpu3_target_user_c_model_lgwatch.yaml & CUDA_VISIBLE_DEVICES=4 python experiment.py --config /mnt/sting/hjyoon/projects/aaa/configs/infocom/hps/metasimclr_w_neg_membank_lr_0.0001/hhar/metasimclr/pretrain/gpu4_target_user_d_model_nexus4.yaml & CUDA_VISIBLE_DEVICES=5 python experiment.py --config /mnt/sting/hjyoon/projects/aaa/configs/infocom/hps/metasimclr_w_neg_membank_lr_0.0001/hhar/metasimclr/pretrain/gpu5_target_user_d_model_s3.yaml & CUDA_VISIBLE_DEVICES=6 python experiment.py --config /mnt/sting/hjyoon/projects/aaa/configs/infocom/hps/metasimclr_w_neg_membank_lr_0.0001/hhar/metasimclr/pretrain/gpu6_target_user_d_model_s3mini.yaml & CUDA_VISIBLE_DEVICES=7 python experiment.py --config /mnt/sting/hjyoon/projects/aaa/configs/infocom/hps/metasimclr_w_neg_membank_lr_0.0001/hhar/metasimclr/pretrain/gpu7_target_user_d_model_lgwatch.yaml\n",
      "\n"
     ]
    }
   ],
   "source": [
    "import os\n",
    "from glob import glob\n",
    "\n",
    "hps_dirs = glob(\"/mnt/sting/hjyoon/projects/aaa/configs/infocom/hps/metasimclr_w_neg_membank_lr_0.0*/hhar/metasimclr/pretrain\")\n",
    "total_commands = []\n",
    "for hps_dir in hps_dirs:\n",
    "    yamls = glob(os.path.join(hps_dir, \"*.yaml\"))\n",
    "    \n",
    "    commands1 = {}\n",
    "    commands2 = {}\n",
    "    for yaml in yamls:\n",
    "        if os.path.exists(yaml+'.log'):\n",
    "            continue\n",
    "        gpu_num = yaml.split('gpu')[-1].split('_')[0]\n",
    "        command = f\"CUDA_VISIBLE_DEVICES={gpu_num} python experiment.py --config {yaml}\"\n",
    "        if gpu_num not in commands1:\n",
    "            commands1[gpu_num] = command\n",
    "        else:\n",
    "            commands2[gpu_num] = command\n",
    "    total_commands.append(' & '.join(list(commands1.values())))\n",
    "    total_commands.append(' & '.join(list(commands2.values())))\n",
    "\n",
    "for i, command in enumerate(total_commands):\n",
    "    print(i)\n",
    "    print(command)\n",
    "    print()\n",
    "    "
   ]
  },
  {
   "cell_type": "code",
   "execution_count": null,
   "metadata": {},
   "outputs": [],
   "source": []
  }
 ],
 "metadata": {
  "kernelspec": {
   "display_name": "augcon",
   "language": "python",
   "name": "python3"
  },
  "language_info": {
   "codemirror_mode": {
    "name": "ipython",
    "version": 3
   },
   "file_extension": ".py",
   "mimetype": "text/x-python",
   "name": "python",
   "nbconvert_exporter": "python",
   "pygments_lexer": "ipython3",
   "version": "3.9.16"
  }
 },
 "nbformat": 4,
 "nbformat_minor": 2
}
